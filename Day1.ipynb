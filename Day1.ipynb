{
  "metadata": {
    "language_info": {
      "codemirror_mode": {
        "name": "python",
        "version": 3
      },
      "file_extension": ".py",
      "mimetype": "text/x-python",
      "name": "python",
      "nbconvert_exporter": "python",
      "pygments_lexer": "ipython3",
      "version": "3.8"
    },
    "kernelspec": {
      "name": "python",
      "display_name": "Python (Pyodide)",
      "language": "python"
    }
  },
  "nbformat_minor": 4,
  "nbformat": 4,
  "cells": [
    {
      "cell_type": "code",
      "source": "import pandas as pd\ndata = {'Name': ['Jai', 'Princi', 'Gaurav',\n 'Anuj', 'Ravi', 'Natasha', 'Riya'],\n 'Age': [17, 17, 18, 17, 18, 17, 17],\n 'Gender': ['M', 'F', 'M', 'M', 'M', 'F', 'F'],\n 'Marks': [90, 76, 'NaN', 74, 65, 'NaN', 71]}\ndf = pd.DataFrame(data)\ndf",
      "metadata": {
        "trusted": true
      },
      "execution_count": 4,
      "outputs": [
        {
          "execution_count": 4,
          "output_type": "execute_result",
          "data": {
            "text/plain": "      Name  Age Gender Marks\n0      Jai   17      M    90\n1   Princi   17      F    76\n2   Gaurav   18      M   NaN\n3     Anuj   17      M    74\n4     Ravi   18      M    65\n5  Natasha   17      F   NaN\n6     Riya   17      F    71",
            "text/html": "<div>\n<style scoped>\n    .dataframe tbody tr th:only-of-type {\n        vertical-align: middle;\n    }\n\n    .dataframe tbody tr th {\n        vertical-align: top;\n    }\n\n    .dataframe thead th {\n        text-align: right;\n    }\n</style>\n<table border=\"1\" class=\"dataframe\">\n  <thead>\n    <tr style=\"text-align: right;\">\n      <th></th>\n      <th>Name</th>\n      <th>Age</th>\n      <th>Gender</th>\n      <th>Marks</th>\n    </tr>\n  </thead>\n  <tbody>\n    <tr>\n      <th>0</th>\n      <td>Jai</td>\n      <td>17</td>\n      <td>M</td>\n      <td>90</td>\n    </tr>\n    <tr>\n      <th>1</th>\n      <td>Princi</td>\n      <td>17</td>\n      <td>F</td>\n      <td>76</td>\n    </tr>\n    <tr>\n      <th>2</th>\n      <td>Gaurav</td>\n      <td>18</td>\n      <td>M</td>\n      <td>NaN</td>\n    </tr>\n    <tr>\n      <th>3</th>\n      <td>Anuj</td>\n      <td>17</td>\n      <td>M</td>\n      <td>74</td>\n    </tr>\n    <tr>\n      <th>4</th>\n      <td>Ravi</td>\n      <td>18</td>\n      <td>M</td>\n      <td>65</td>\n    </tr>\n    <tr>\n      <th>5</th>\n      <td>Natasha</td>\n      <td>17</td>\n      <td>F</td>\n      <td>NaN</td>\n    </tr>\n    <tr>\n      <th>6</th>\n      <td>Riya</td>\n      <td>17</td>\n      <td>F</td>\n      <td>71</td>\n    </tr>\n  </tbody>\n</table>\n</div>"
          },
          "metadata": {}
        }
      ]
    },
    {
      "cell_type": "code",
      "source": "",
      "metadata": {},
      "execution_count": null,
      "outputs": []
    },
    {
      "cell_type": "code",
      "source": "c = avg = 0\nfor ele in df['Marks']:\n if str(ele).isnumeric():\n  c += 1\n  avg += ele\n  avg /= c\ndf = df.replace(to_replace=\"NaN\",value=avg)\ndf",
      "metadata": {
        "trusted": true
      },
      "execution_count": 5,
      "outputs": [
        {
          "execution_count": 5,
          "output_type": "execute_result",
          "data": {
            "text/plain": "      Name  Age Gender      Marks\n0      Jai   17      M  90.000000\n1   Princi   17      F  76.000000\n2   Gaurav   18      M  20.066667\n3     Anuj   17      M  74.000000\n4     Ravi   18      M  65.000000\n5  Natasha   17      F  20.066667\n6     Riya   17      F  71.000000",
            "text/html": "<div>\n<style scoped>\n    .dataframe tbody tr th:only-of-type {\n        vertical-align: middle;\n    }\n\n    .dataframe tbody tr th {\n        vertical-align: top;\n    }\n\n    .dataframe thead th {\n        text-align: right;\n    }\n</style>\n<table border=\"1\" class=\"dataframe\">\n  <thead>\n    <tr style=\"text-align: right;\">\n      <th></th>\n      <th>Name</th>\n      <th>Age</th>\n      <th>Gender</th>\n      <th>Marks</th>\n    </tr>\n  </thead>\n  <tbody>\n    <tr>\n      <th>0</th>\n      <td>Jai</td>\n      <td>17</td>\n      <td>M</td>\n      <td>90.000000</td>\n    </tr>\n    <tr>\n      <th>1</th>\n      <td>Princi</td>\n      <td>17</td>\n      <td>F</td>\n      <td>76.000000</td>\n    </tr>\n    <tr>\n      <th>2</th>\n      <td>Gaurav</td>\n      <td>18</td>\n      <td>M</td>\n      <td>20.066667</td>\n    </tr>\n    <tr>\n      <th>3</th>\n      <td>Anuj</td>\n      <td>17</td>\n      <td>M</td>\n      <td>74.000000</td>\n    </tr>\n    <tr>\n      <th>4</th>\n      <td>Ravi</td>\n      <td>18</td>\n      <td>M</td>\n      <td>65.000000</td>\n    </tr>\n    <tr>\n      <th>5</th>\n      <td>Natasha</td>\n      <td>17</td>\n      <td>F</td>\n      <td>20.066667</td>\n    </tr>\n    <tr>\n      <th>6</th>\n      <td>Riya</td>\n      <td>17</td>\n      <td>F</td>\n      <td>71.000000</td>\n    </tr>\n  </tbody>\n</table>\n</div>"
          },
          "metadata": {}
        }
      ]
    },
    {
      "cell_type": "code",
      "source": "details = pd.DataFrame({\n'ID': [101, 102, 103, 104, 105, 106, 107, 108, 109, 110],\n'Name': ['Jagroop', 'Praveen', 'Harjot', 'Saurabh', 'Ayush', 'Pooja', 'Rahul', 'Nikita', 'Dolly', 'Mohit'],\n'Branch': ['CSE', 'CSE', 'CSE', 'CSE', 'CSE', 'CSE', 'CSE', 'CSE', 'CSE', 'CSE',]})\nprint(details)",
      "metadata": {
        "trusted": true
      },
      "execution_count": 6,
      "outputs": [
        {
          "name": "stdout",
          "text": "    ID     Name Branch\n0  101  Jagroop    CSE\n1  102  Praveen    CSE\n2  103   Harjot    CSE\n3  104  Saurabh    CSE\n4  105    Ayush    CSE\n5  106    Pooja    CSE\n6  107    Rahul    CSE\n7  108   Nikita    CSE\n8  109    Dolly    CSE\n9  110    Mohit    CSE\n",
          "output_type": "stream"
        }
      ]
    },
    {
      "cell_type": "code",
      "source": "fees_status = pd.DataFrame({\n'ID': [101, 102, 103, 104, 105, 106, 107, 108, 109, 110],\n'PENDING': ['5000', '250', 'NIL', '9000', '15000', 'NIL', '4500', '1800', '250', 'NIL']})\nprint(fees_status)",
      "metadata": {
        "trusted": true
      },
      "execution_count": 8,
      "outputs": [
        {
          "name": "stdout",
          "text": "    ID PENDING\n0  101    5000\n1  102     250\n2  103     NIL\n3  104    9000\n4  105   15000\n5  106     NIL\n6  107    4500\n7  108    1800\n8  109     250\n9  110     NIL\n",
          "output_type": "stream"
        }
      ]
    },
    {
      "cell_type": "code",
      "source": "details",
      "metadata": {},
      "execution_count": null,
      "outputs": []
    },
    {
      "cell_type": "code",
      "source": "",
      "metadata": {},
      "execution_count": null,
      "outputs": []
    },
    {
      "cell_type": "code",
      "source": "",
      "metadata": {},
      "execution_count": null,
      "outputs": []
    },
    {
      "cell_type": "code",
      "source": "",
      "metadata": {},
      "execution_count": null,
      "outputs": []
    },
    {
      "cell_type": "code",
      "source": "",
      "metadata": {},
      "execution_count": null,
      "outputs": []
    },
    {
      "cell_type": "code",
      "source": "",
      "metadata": {},
      "execution_count": null,
      "outputs": []
    }
  ]
}