{
  "metadata": {
    "language_info": {
      "codemirror_mode": {
        "name": "python",
        "version": 3
      },
      "file_extension": ".py",
      "mimetype": "text/x-python",
      "name": "python",
      "nbconvert_exporter": "python",
      "pygments_lexer": "ipython3",
      "version": "3.8"
    },
    "kernelspec": {
      "name": "python",
      "display_name": "Python (Pyodide)",
      "language": "python"
    }
  },
  "nbformat_minor": 4,
  "nbformat": 4,
  "cells": [
    {
      "cell_type": "code",
      "source": "import pandas as pd\ndetails = pd.DataFrame({\n'ID': [101, 102, 103, 104, 105, 106, 107, 108, 109, 110],\n'NAME': ['Jagroop', 'Praveen', 'Harjot', 'Pooja', 'Rahul', 'Nikita', 'Saurabh', 'Ayush', 'Dolly', \"Mohit\"],\n'BRANCH': ['CSE', 'CSE', 'CSE', 'CSE', 'CSE',\n'CSE', 'CSE', 'CSE', 'CSE', 'CSE']})\nfees_status = pd.DataFrame({\n'ID': [101, 102, 103, 104, 105,106, 107, 108, 109, 110],\n'PENDING': ['5000', '250', 'NIL','9000', '15000', 'NIL', '4500', '1800', '250', 'NIL']})\nprint(pd.merge(details, fees_status, on='ID'))",
      "metadata": {
        "trusted": true
      },
      "execution_count": 3,
      "outputs": [
        {
          "name": "stdout",
          "text": "    ID     NAME BRANCH PENDING\n0  101  Jagroop    CSE    5000\n1  102  Praveen    CSE     250\n2  103   Harjot    CSE     NIL\n3  104    Pooja    CSE    9000\n4  105    Rahul    CSE   15000\n5  106   Nikita    CSE     NIL\n6  107  Saurabh    CSE    4500\n7  108    Ayush    CSE    1800\n8  109    Dolly    CSE     250\n9  110    Mohit    CSE     NIL\n",
          "output_type": "stream"
        }
      ]
    },
    {
      "cell_type": "code",
      "source": "car_selling_data = {'Brand': ['Maruti', 'Maruti', 'Maruti',\n'Maruti', 'Hyundai', 'Hyundai',\n'Toyota', 'Mahindra', 'Mahindra',\n'Ford', 'Toyota', 'Ford'],\n'Year': [2010, 2011, 2009, 2013,\n2010, 2011, 2011, 2010,\n2013, 2010, 2010, 2011],\n'Sold': [6, 7, 9, 8, 3, 5,\n2, 8, 7, 2, 4, 2]}\ndf = pd.DataFrame(car_selling_data)\nprint(df)",
      "metadata": {
        "trusted": true
      },
      "execution_count": 4,
      "outputs": [
        {
          "name": "stdout",
          "text": "       Brand  Year  Sold\n0     Maruti  2010     6\n1     Maruti  2011     7\n2     Maruti  2009     9\n3     Maruti  2013     8\n4    Hyundai  2010     3\n5    Hyundai  2011     5\n6     Toyota  2011     2\n7   Mahindra  2010     8\n8   Mahindra  2013     7\n9       Ford  2010     2\n10    Toyota  2010     4\n11      Ford  2011     2\n",
          "output_type": "stream"
        }
      ]
    },
    {
      "cell_type": "code",
      "source": "car_selling_data = {'Brand': ['Maruti', 'Maruti', 'Maruti',\n'Maruti', 'Hyundai', 'Hyundai',\n'Toyota', 'Mahindra', 'Mahindra',\n'Ford', 'Toyota', 'Ford'],\n'Year': [2010, 2011, 2009, 2013,\n2010, 2011, 2011, 2010,\n2013, 2010, 2010, 2011],\n'Sold': [6, 7, 9, 8, 3, 5,\n2, 8, 7, 2, 4, 2]}\ndf = pd.DataFrame(car_selling_data)\ngrouped = df.groupby('Year')\nprint(grouped.get_group(2010))",
      "metadata": {
        "trusted": true
      },
      "execution_count": 5,
      "outputs": [
        {
          "name": "stdout",
          "text": "       Brand  Year  Sold\n0     Maruti  2010     6\n4    Hyundai  2010     3\n7   Mahindra  2010     8\n9       Ford  2010     2\n10    Toyota  2010     4\n",
          "output_type": "stream"
        }
      ]
    },
    {
      "cell_type": "code",
      "source": "student_data = {'Name': ['Amit', 'Praveen', 'Jagroop',\n'Rahul', 'Vishal', 'Suraj',\n'Rishab', 'Satyapal', 'Amit',\n'Rahul', 'Praveen', 'Amit'],\n'Roll_no': [23, 54, 29, 36, 59, 38,\n12, 45, 34, 36, 54, 23],\n'Email': ['xxxx@gmail.com', 'xxxxxx@gmail.com',\n'xxxxxx@gmail.com', 'xx@gmail.com',\n'xxxx@gmail.com', 'xxxxx@gmail.com',\n'xxxxx@gmail.com', 'xxxxx@gmail.com',\n'xxxxx@gmail.com', 'xxxxxx@gmail.com',\n'xxxxxxxxxx@gmail.com',\n'xxxxxxxxxx@gmail.com']}\ndf = pd.DataFrame(student_data)\nprint(df)",
      "metadata": {
        "trusted": true
      },
      "execution_count": 6,
      "outputs": [
        {
          "name": "stdout",
          "text": "        Name  Roll_no                 Email\n0       Amit       23        xxxx@gmail.com\n1    Praveen       54      xxxxxx@gmail.com\n2    Jagroop       29      xxxxxx@gmail.com\n3      Rahul       36          xx@gmail.com\n4     Vishal       59        xxxx@gmail.com\n5      Suraj       38       xxxxx@gmail.com\n6     Rishab       12       xxxxx@gmail.com\n7   Satyapal       45       xxxxx@gmail.com\n8       Amit       34       xxxxx@gmail.com\n9      Rahul       36      xxxxxx@gmail.com\n10   Praveen       54  xxxxxxxxxx@gmail.com\n11      Amit       23  xxxxxxxxxx@gmail.com\n",
          "output_type": "stream"
        }
      ]
    },
    {
      "cell_type": "code",
      "source": "student_data = {'Name': ['Amit', 'Praveen', 'Jagroop',\n'Rahul', 'Vishal', 'Suraj',\n'Rishab', 'Satyapal', 'Amit',\n'Rahul', 'Praveen', 'Amit'],\n'Roll_no': [23, 54, 29, 36, 59, 38,\n12, 45, 34, 36, 54, 23],\n'Email': ['xxxx@gmail.com', 'xxxxxx@gmail.com',\n'xxxxxx@gmail.com', 'xx@gmail.com',\n'xxxx@gmail.com', 'xxxxx@gmail.com',\n'xxxxx@gmail.com', 'xxxxx@gmail.com',\n'xxxxx@gmail.com', 'xxxxxx@gmail.com',\n'xxxxxxxxxx@gmail.com',\n'xxxxxxxxxx@gmail.com']}\ndf = pd.DataFrame(student_data)\nnon_duplicate = df[~df.duplicated('Roll_no')]\nprint(non_duplicate)",
      "metadata": {
        "trusted": true
      },
      "execution_count": 7,
      "outputs": [
        {
          "name": "stdout",
          "text": "       Name  Roll_no             Email\n0      Amit       23    xxxx@gmail.com\n1   Praveen       54  xxxxxx@gmail.com\n2   Jagroop       29  xxxxxx@gmail.com\n3     Rahul       36      xx@gmail.com\n4    Vishal       59    xxxx@gmail.com\n5     Suraj       38   xxxxx@gmail.com\n6    Rishab       12   xxxxx@gmail.com\n7  Satyapal       45   xxxxx@gmail.com\n8      Amit       34   xxxxx@gmail.com\n",
          "output_type": "stream"
        }
      ]
    },
    {
      "cell_type": "code",
      "source": "data1 = {'Name':['Jai', 'Princi', 'Gaurav', 'Anuj'],\n'Age':[27, 24, 22, 32],\n'Address':['Nagpur', 'Kanpur', 'Allahabad', 'Kannuaj'],\n'Qualification':['Msc', 'MA', 'MCA', 'Phd'],\n'Mobile No': [97, 91, 58, 76]}\ndata2 = {'Name':['Gaurav', 'Anuj', 'Dhiraj', 'Hitesh'],\n'Age':[22, 32, 12, 52],\n'Address':['Allahabad', 'Kannuaj', 'Allahabad', 'Kannuaj'],\n'Qualification':['MCA', 'Phd', 'Bcom', 'B.hons'],\n'Salary':[1000, 2000, 3000, 4000]}\ndf = pd.DataFrame(data1,index=[0, 1, 2, 3])\ndf1 = pd.DataFrame(data2, index=[2, 3, 6, 7])\nres = pd.concat([df,df1])\nprint(df)\nprint(df1)",
      "metadata": {
        "trusted": true
      },
      "execution_count": 13,
      "outputs": [
        {
          "name": "stdout",
          "text": "     Name  Age    Address Qualification  Mobile No\n0     Jai   27     Nagpur           Msc         97\n1  Princi   24     Kanpur            MA         91\n2  Gaurav   22  Allahabad           MCA         58\n3    Anuj   32    Kannuaj           Phd         76\n     Name  Age    Address Qualification  Salary\n2  Gaurav   22  Allahabad           MCA    1000\n3    Anuj   32    Kannuaj           Phd    2000\n6  Dhiraj   12  Allahabad          Bcom    3000\n7  Hitesh   52    Kannuaj        B.hons    4000\n",
          "output_type": "stream"
        }
      ]
    },
    {
      "cell_type": "code",
      "source": "",
      "metadata": {},
      "execution_count": null,
      "outputs": []
    },
    {
      "cell_type": "code",
      "source": "",
      "metadata": {},
      "execution_count": null,
      "outputs": []
    },
    {
      "cell_type": "code",
      "source": "",
      "metadata": {},
      "execution_count": null,
      "outputs": []
    }
  ]
}