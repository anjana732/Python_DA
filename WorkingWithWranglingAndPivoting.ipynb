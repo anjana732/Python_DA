{
  "metadata": {
    "language_info": {
      "codemirror_mode": {
        "name": "python",
        "version": 3
      },
      "file_extension": ".py",
      "mimetype": "text/x-python",
      "name": "python",
      "nbconvert_exporter": "python",
      "pygments_lexer": "ipython3",
      "version": "3.8"
    },
    "kernelspec": {
      "name": "python",
      "display_name": "Python (Pyodide)",
      "language": "python"
    }
  },
  "nbformat_minor": 4,
  "nbformat": 4,
  "cells": [
    {
      "cell_type": "code",
      "source": "import pandas as pd\narray = [2, 4, 6, 8, 10, 12]\nseries_obj = pd.Series(array)\narr = series_obj.values\narr",
      "metadata": {
        "trusted": true
      },
      "execution_count": 4,
      "outputs": [
        {
          "execution_count": 4,
          "output_type": "execute_result",
          "data": {
            "text/plain": "array([ 2,  4,  6,  8, 10, 12], dtype=int64)"
          },
          "metadata": {}
        }
      ]
    },
    {
      "cell_type": "code",
      "source": "reshaped_arr = arr.reshape((2, 3))\nreshaped_arr",
      "metadata": {
        "trusted": true
      },
      "execution_count": 8,
      "outputs": [
        {
          "execution_count": 8,
          "output_type": "execute_result",
          "data": {
            "text/plain": "array([[ 2,  4,  6],\n       [ 8, 10, 12]], dtype=int64)"
          },
          "metadata": {}
        }
      ]
    },
    {
      "cell_type": "code",
      "source": "array = [\"ankit\", \"Shaurya\", \"Shivangi\", \"Jeet\", \"Priya\", \"Ananya\"]\nseries_obj = pd.Series(array)\nprint(\"Given Series: \\n\", series_obj)\narr = series_obj.values\narr",
      "metadata": {
        "trusted": true
      },
      "execution_count": 11,
      "outputs": [
        {
          "name": "stdout",
          "text": "Given Series: \n 0       ankit\n1     Shaurya\n2    Shivangi\n3        Jeet\n4       Priya\n5      Ananya\ndtype: object\n",
          "output_type": "stream"
        },
        {
          "execution_count": 11,
          "output_type": "execute_result",
          "data": {
            "text/plain": "array(['ankit', 'Shaurya', 'Shivangi', 'Jeet', 'Priya', 'Ananya'],\n      dtype=object)"
          },
          "metadata": {}
        }
      ]
    },
    {
      "cell_type": "code",
      "source": "reshaped_arr = arr.reshape((3,2))\nprint(\"After Reshaping: \\n\", reshaped_arr)",
      "metadata": {
        "trusted": true
      },
      "execution_count": 13,
      "outputs": [
        {
          "name": "stdout",
          "text": "After Reshaping: \n [['ankit' 'Shaurya']\n ['Shivangi' 'Jeet']\n ['Priya' 'Ananya']]\n",
          "output_type": "stream"
        }
      ]
    },
    {
      "cell_type": "code",
      "source": "df = pd.DataFrame({'A': ['John', 'Boby', 'Mina'],\n'B': ['Masters', 'Graduate', 'Graduate'],\n'C': [27, 23, 21]})\ndf",
      "metadata": {
        "trusted": true
      },
      "execution_count": 18,
      "outputs": [
        {
          "execution_count": 18,
          "output_type": "execute_result",
          "data": {
            "text/plain": "      A         B   C\n0  John   Masters  27\n1  Boby  Graduate  23\n2  Mina  Graduate  21",
            "text/html": "<div>\n<style scoped>\n    .dataframe tbody tr th:only-of-type {\n        vertical-align: middle;\n    }\n\n    .dataframe tbody tr th {\n        vertical-align: top;\n    }\n\n    .dataframe thead th {\n        text-align: right;\n    }\n</style>\n<table border=\"1\" class=\"dataframe\">\n  <thead>\n    <tr style=\"text-align: right;\">\n      <th></th>\n      <th>A</th>\n      <th>B</th>\n      <th>C</th>\n    </tr>\n  </thead>\n  <tbody>\n    <tr>\n      <th>0</th>\n      <td>John</td>\n      <td>Masters</td>\n      <td>27</td>\n    </tr>\n    <tr>\n      <th>1</th>\n      <td>Boby</td>\n      <td>Graduate</td>\n      <td>23</td>\n    </tr>\n    <tr>\n      <th>2</th>\n      <td>Mina</td>\n      <td>Graduate</td>\n      <td>21</td>\n    </tr>\n  </tbody>\n</table>\n</div>"
          },
          "metadata": {}
        }
      ]
    },
    {
      "cell_type": "code",
      "source": "df.pivot('A', 'B', 'C')",
      "metadata": {
        "trusted": true
      },
      "execution_count": 19,
      "outputs": [
        {
          "name": "stderr",
          "text": "<ipython-input-19-d3da59eff764>:1: FutureWarning: In a future version of pandas all arguments of DataFrame.pivot will be keyword-only.\n  df.pivot('A', 'B', 'C')\n",
          "output_type": "stream"
        },
        {
          "execution_count": 19,
          "output_type": "execute_result",
          "data": {
            "text/plain": "B     Graduate  Masters\nA                      \nBoby      23.0      NaN\nJohn       NaN     27.0\nMina      21.0      NaN",
            "text/html": "<div>\n<style scoped>\n    .dataframe tbody tr th:only-of-type {\n        vertical-align: middle;\n    }\n\n    .dataframe tbody tr th {\n        vertical-align: top;\n    }\n\n    .dataframe thead th {\n        text-align: right;\n    }\n</style>\n<table border=\"1\" class=\"dataframe\">\n  <thead>\n    <tr style=\"text-align: right;\">\n      <th>B</th>\n      <th>Graduate</th>\n      <th>Masters</th>\n    </tr>\n    <tr>\n      <th>A</th>\n      <th></th>\n      <th></th>\n    </tr>\n  </thead>\n  <tbody>\n    <tr>\n      <th>Boby</th>\n      <td>23.0</td>\n      <td>NaN</td>\n    </tr>\n    <tr>\n      <th>John</th>\n      <td>NaN</td>\n      <td>27.0</td>\n    </tr>\n    <tr>\n      <th>Mina</th>\n      <td>21.0</td>\n      <td>NaN</td>\n    </tr>\n  </tbody>\n</table>\n</div>"
          },
          "metadata": {}
        }
      ]
    },
    {
      "cell_type": "code",
      "source": "df.pivot(index ='A', columns='B', values=['C', 'A'])",
      "metadata": {
        "trusted": true
      },
      "execution_count": 21,
      "outputs": [
        {
          "execution_count": 21,
          "output_type": "execute_result",
          "data": {
            "text/plain": "            C                A        \nB    Graduate Masters Graduate Masters\nA                                     \nBoby       23     NaN     Boby     NaN\nJohn      NaN      27      NaN    John\nMina       21     NaN     Mina     NaN",
            "text/html": "<div>\n<style scoped>\n    .dataframe tbody tr th:only-of-type {\n        vertical-align: middle;\n    }\n\n    .dataframe tbody tr th {\n        vertical-align: top;\n    }\n\n    .dataframe thead tr th {\n        text-align: left;\n    }\n\n    .dataframe thead tr:last-of-type th {\n        text-align: right;\n    }\n</style>\n<table border=\"1\" class=\"dataframe\">\n  <thead>\n    <tr>\n      <th></th>\n      <th colspan=\"2\" halign=\"left\">C</th>\n      <th colspan=\"2\" halign=\"left\">A</th>\n    </tr>\n    <tr>\n      <th>B</th>\n      <th>Graduate</th>\n      <th>Masters</th>\n      <th>Graduate</th>\n      <th>Masters</th>\n    </tr>\n    <tr>\n      <th>A</th>\n      <th></th>\n      <th></th>\n      <th></th>\n      <th></th>\n    </tr>\n  </thead>\n  <tbody>\n    <tr>\n      <th>Boby</th>\n      <td>23</td>\n      <td>NaN</td>\n      <td>Boby</td>\n      <td>NaN</td>\n    </tr>\n    <tr>\n      <th>John</th>\n      <td>NaN</td>\n      <td>27</td>\n      <td>NaN</td>\n      <td>John</td>\n    </tr>\n    <tr>\n      <th>Mina</th>\n      <td>21</td>\n      <td>NaN</td>\n      <td>Mina</td>\n      <td>NaN</td>\n    </tr>\n  </tbody>\n</table>\n</div>"
          },
          "metadata": {}
        }
      ]
    },
    {
      "cell_type": "code",
      "source": "df = pd.DataFrame({'Name': ['Jhon', 'Sammy', 'Stephan', 'joe', 'Emily', 'Tom'],\n                   'Gender': ['Male', 'Female', 'Male', 'Female', 'Female', 'Male'],\n                   'Age': [45, 6, 4, 36, 12, 43]})\nprint(\"Dataset\")\nprint(df)\nprint(\"-\"*40)\ndef age_bucket(age):\n    if age <= 18:\n        return \"<18\"\n    else:\n        return \">18\"\n\ndf['Age Group'] = df['Age'].apply(age_bucket)\ngender = pd.DataFrame(df.Gender.value_counts(normalize= True)*100).reset_index()\ngender.columns = ['Gender', '%Gender']\ndf = pd.merge(left=df, right=gender, how='inner', on=['Gender'])\ntable = pd.pivot_table(df, index=['Gender', '%Gender', 'Age Group'],\n                       values=['Name'], aggfunc={'Name': 'count',})\nprint(\"Table\")\nprint(table)",
      "metadata": {
        "trusted": true
      },
      "execution_count": 23,
      "outputs": [
        {
          "name": "stdout",
          "text": "Dataset\n      Name  Gender  Age\n0     Jhon    Male   45\n1    Sammy  Female    6\n2  Stephan    Male    4\n3      joe  Female   36\n4    Emily  Female   12\n5      Tom    Male   43\n----------------------------------------\nTable\n                          Name\nGender %Gender Age Group      \nFemale 50.0    <18           2\n               >18           1\nMale   50.0    <18           1\n               >18           2\n",
          "output_type": "stream"
        }
      ]
    },
    {
      "cell_type": "code",
      "source": "",
      "metadata": {},
      "execution_count": null,
      "outputs": []
    }
  ]
}